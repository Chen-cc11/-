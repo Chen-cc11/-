{
 "cells": [
  {
   "cell_type": "markdown",
   "id": "7a0f2a42",
   "metadata": {},
   "source": [
    "# Machine Learning"
   ]
  },
  {
   "cell_type": "markdown",
   "id": "63dc9144",
   "metadata": {},
   "source": [
    "## ——Looking for Function"
   ]
  },
  {
   "cell_type": "markdown",
   "id": "1b75ea8d",
   "metadata": {},
   "source": [
    "### Deep Learning-Neural Network"
   ]
  },
  {
   "cell_type": "markdown",
   "id": "2d5e6d06",
   "metadata": {},
   "source": [
    "##### Supervised Learning-training data\n",
    "Self-superrvised: Learning - (pre-train)vs.(downstream tasks)`"
   ]
  },
  {
   "cell_type": "markdown",
   "id": "4d2d93d1",
   "metadata": {},
   "source": [
    "Regression-回归:the function outputs a scalar.\n",
    "\n",
    "Classification-分类:Given options(classes),the functins outputs the correct one.\n",
    "\n",
    "Structured Learning:create something with structure(image document)\n"
   ]
  },
  {
   "cell_type": "markdown",
   "id": "54edeebc",
   "metadata": {},
   "source": [
    "### The steps of machine learning\n",
    "1.Function with unknown parameters feature weight bias.\n",
    "2.Define loss from training data.\n",
    "  Loss is a function of parameters.\n",
    "  Loss:how good a set of value is.\n",
    "mean absolute error|mean square error|cross-entropy|error surface.\n",
    "3.Optimization  - gradient descent:\n",
    "  Randomly pick an initial value\n",
    "  Compute:learning rate - hyperparameters\n",
    "  Update w iteratively - local minima global minima"
   ]
  }
 ],
 "metadata": {
  "kernelspec": {
   "display_name": "Python 3 (ipykernel)",
   "language": "python",
   "name": "python3"
  },
  "language_info": {
   "codemirror_mode": {
    "name": "ipython",
    "version": 3
   },
   "file_extension": ".py",
   "mimetype": "text/x-python",
   "name": "python",
   "nbconvert_exporter": "python",
   "pygments_lexer": "ipython3",
   "version": "3.11.5"
  }
 },
 "nbformat": 4,
 "nbformat_minor": 5
}
