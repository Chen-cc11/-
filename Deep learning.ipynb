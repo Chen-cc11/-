{
 "cells": [
  {
   "cell_type": "markdown",
   "id": "ac21327b",
   "metadata": {},
   "source": [
    "Linear models are too simple.we need more sophisticated models.  \n",
    "Linear models have severe limitation.-**Model Bias**- We need a more flexible model."
   ]
  },
  {
   "cell_type": "markdown",
   "id": "7e4f622e",
   "metadata": {},
   "source": [
    "reak curve = constant + sum of a set of  \n",
    "Sigmoid Function represents Hard Sigmoid.  \n",
    "New Model:More Features.  \n",
    "Function with unkonown parameters."
   ]
  },
  {
   "cell_type": "markdown",
   "id": "14620fce",
   "metadata": {},
   "source": [
    "**Loss**  \n",
    "Loss is a function of parameters.  \n",
    "**Optimization of New Model**  \n",
    "Randomly Pick initial values  \n",
    "compute-gredient descent  \n",
    "//Divide the data into several batches, calculate gradients and update parameters in each batch, and finally see all batches in the epoch//"
   ]
  },
  {
   "cell_type": "markdown",
   "id": "d5dbc85d",
   "metadata": {},
   "source": [
    "Hyperparameters: manually set  \n",
    "Batch size"
   ]
  },
  {
   "cell_type": "markdown",
   "id": "ee70c707",
   "metadata": {},
   "source": [
    "Sigmoid ——> ReLU（rectified linear unit)  \n",
    "Activation function:sigmoid() linear()"
   ]
  },
  {
   "cell_type": "markdown",
   "id": "6c17873b",
   "metadata": {},
   "source": [
    "Neuron:sigmiod/ReLU ——> Neural Network\n",
    "hideen layer  \n",
    "Many layers means Deep ——> Deep Learning\n",
    "Deep = Many hidden layers"
   ]
  }
 ],
 "metadata": {
  "kernelspec": {
   "display_name": "Python 3 (ipykernel)",
   "language": "python",
   "name": "python3"
  },
  "language_info": {
   "codemirror_mode": {
    "name": "ipython",
    "version": 3
   },
   "file_extension": ".py",
   "mimetype": "text/x-python",
   "name": "python",
   "nbconvert_exporter": "python",
   "pygments_lexer": "ipython3",
   "version": "3.11.5"
  }
 },
 "nbformat": 4,
 "nbformat_minor": 5
}
